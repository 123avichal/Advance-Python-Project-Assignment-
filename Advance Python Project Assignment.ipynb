{
 "cells": [
  {
   "cell_type": "markdown",
   "id": "730da2a3-aa3a-4145-a2ee-bf71a1f403eb",
   "metadata": {},
   "source": [
    "1. Build a Flask app that scrapes data from multiple websites and displays it on your site.\n",
    "You can try to scrap websites like youtube , amazon and show data on output pages and deploy it on cloud\n",
    "platform ."
   ]
  },
  {
   "cell_type": "markdown",
   "id": "dc64cd2c-43b5-4be2-8147-a9629bed47d9",
   "metadata": {},
   "source": [
    "git hub link = https://github.com/123avichal/image-45.git\n",
    "render_clud_link=https://image-scarpper678.onrender.com"
   ]
  },
  {
   "cell_type": "markdown",
   "id": "0778da14-a10a-4d88-866e-9380c941dcf2",
   "metadata": {},
   "source": [
    "2. Create a Flask app that consumes data from external APIs and displays it to users.\n",
    "Try to find an public API which will give you a data and based on that call it and deploy it on cloud platform"
   ]
  },
  {
   "cell_type": "markdown",
   "id": "7a21354a-de80-429e-8646-9dfc49df8b63",
   "metadata": {},
   "source": [
    "git hub link=https://github.com/123avichal/avichal-weather-.git\n",
    "render_clud_link=https://weatherinfo-67.onrender.com"
   ]
  },
  {
   "cell_type": "markdown",
   "id": "6ab3e871-b58c-41ae-8194-4b60f9ed5acd",
   "metadata": {},
   "source": [
    "4. Develop a recommendation system using Flask that suggests content to users based on their preferences."
   ]
  },
  {
   "cell_type": "markdown",
   "id": "e6ded153-e44d-4ae3-8a47-310e03a76582",
   "metadata": {},
   "source": [
    "git hub link=https://github.com/123avichal/rer.git\n",
    "render_clud_link=https://re-mzf9.onrender.com"
   ]
  },
  {
   "cell_type": "code",
   "execution_count": null,
   "id": "64e7b2e6-cec7-4511-9b8a-50f7398baa1d",
   "metadata": {},
   "outputs": [],
   "source": []
  }
 ],
 "metadata": {
  "kernelspec": {
   "display_name": "Python 3 (ipykernel)",
   "language": "python",
   "name": "python3"
  },
  "language_info": {
   "codemirror_mode": {
    "name": "ipython",
    "version": 3
   },
   "file_extension": ".py",
   "mimetype": "text/x-python",
   "name": "python",
   "nbconvert_exporter": "python",
   "pygments_lexer": "ipython3",
   "version": "3.10.8"
  }
 },
 "nbformat": 4,
 "nbformat_minor": 5
}
